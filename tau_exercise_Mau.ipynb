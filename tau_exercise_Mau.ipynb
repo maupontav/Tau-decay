{
 "cells": [
  {
   "attachments": {},
   "cell_type": "markdown",
   "metadata": {},
   "source": [
    "# Física Nuclear y de Partículas\n",
    "## Ejercicio voluntario, análisis de datos simulados.\n",
    "## desintegraciones del tau\n",
    "\n",
    "*autores: Mauricio A. Ponce Távara*\n",
    "\n",
    "*versión: Diciembre 2022*"
   ]
  },
  {
   "cell_type": "markdown",
   "metadata": {},
   "source": [
    "## Introducción\n",
    "\n",
    "El fichero *taus_45GeV.csv* contiene una muestra de eventos con desintegraciones $\\tau$ de 45 GeV de Energía.\n",
    "\n",
    "Cada evento contiene la lista de las párticulas detectadas por un experimento ideal, con su la posicion (en mm), el momento (en MeV), la energía (en MeV). \n",
    "\n",
    "Los taus se producen en el origen y el experimento mide con exactitud la posición, el momento y energía de los $\\gamma, \\, e^\\pm, \\, \\mu^\\pm, \\pi^\\pm$ que alcanzan un detector ideal que es una esfera de 5 cm centrada en el origen.\n",
    "\n",
    "Los datos están organizados en una tabla. Cada fila corresponde a una partícula y cada columna corresponde a una variable, por ejemplo, la energía de las partículas viene dada en la columna con la etiqueta *E*. Una de las columnas es el número del evento (*event*). Para seleccionar las partículas de un evento, seleccionamos las filas que tiene el mismo número de evento en la columna *event*.\n",
    "\n",
    "En este *notebook* diponéis de código adicional que os facilitará los cálculos y ejemplos de cómo usarlo. Pero podéis utilizar la herramienta que prefiráis.\n",
    "\n",
    "El trabajo se puede realizar individual o en grupos de no más de 4 personas, y lo podéis entragar en el formato que prefiráis en la tarea correspondiente del aula virtual."
   ]
  },
  {
   "attachments": {},
   "cell_type": "markdown",
   "metadata": {},
   "source": [
    "\n",
    "## Ejercicio\n",
    "\n",
    "Con la presente muestra de datos, desarrolla el siguuiente análisis y responde a alguna de las cuestiones:\n",
    "\n",
    "  * ¿Cuántos $\\tau^-$ y $\\tau^+$ hay en la muestra? \n",
    "\n",
    "  * Estima con esta muestra la fracción de desintegración en los canales principales del $\\tau$.\n",
    "\n",
    "    - ¿Cuáles son los canales detectados y su fracción de producción? \n",
    "    \n",
    "    - Asocia e identidica los canales detectados con los canales de desintegración del $\\tau$ (revisa para ello las páginas de PDG del $\\tau$ y $\\pi^0, \\pi^\\pm$.\n",
    "\n",
    "  * Compara la distribución de la energía del $e^\\pm$ y $\\mu^\\pm$ en los eventos con uno solo de esos leptones. \n",
    "  \n",
    "    - Comparala ahora esas distribuciones con la del $\\pi^\\pm$ en los eventos donde solo se emite un $\\pi^\\pm$. \n",
    "\n",
    "  * Calcula la distancia de vuelo del $\\tau$ reconstruyendo su vértice de desintegración. Estima el tiempo de vida media del $\\tau$.\n",
    "\n",
    "      - Verifica que la masa invariante de los eventos con dos $\\gamma$ corresponde a la masa de un $\\pi^0$\n",
    "\n",
    "      - Considera que las partículas no están sometidas a un campo magnético y que sus trayectorias son línea rectas.\n",
    "\n",
    "      - Utilizara los canales con 1 $\\pi^0$ o con 3 piones cargados para obtener la distribución de la distancia de vuelo.\n",
    "\n",
    "      - En dichos canales ¿Puedes reconstruir el momento del $\\nu_\\tau$ que escapa indetectado?"
   ]
  },
  {
   "cell_type": "code",
   "execution_count": 1,
   "metadata": {},
   "outputs": [],
   "source": [
    "import pandas as pd\n",
    "import numpy as np\n",
    "import matplotlib\n",
    "import matplotlib.pyplot as plt\n",
    "import random\n",
    "import operator as op\n",
    "from collections import Counter"
   ]
  },
  {
   "cell_type": "code",
   "execution_count": 2,
   "metadata": {},
   "outputs": [],
   "source": [
    "## NOTA: ¡Modifica la variable *datadir* para que apunte al directorio de tu ordenador donde has guardado el fichero de datos!\n",
    "datadir  = \"C:/Users/ma666/Downloads/US/4ºcurso/FNP/Análisis de datos Tau\"\n",
    "datafile = \"/taus_45GeV.csv\"\n",
    "data     = pd.read_csv(datadir + datafile)"
   ]
  },
  {
   "cell_type": "code",
   "execution_count": 3,
   "metadata": {},
   "outputs": [
    {
     "data": {
      "text/html": [
       "<div>\n",
       "<style scoped>\n",
       "    .dataframe tbody tr th:only-of-type {\n",
       "        vertical-align: middle;\n",
       "    }\n",
       "\n",
       "    .dataframe tbody tr th {\n",
       "        vertical-align: top;\n",
       "    }\n",
       "\n",
       "    .dataframe thead th {\n",
       "        text-align: right;\n",
       "    }\n",
       "</style>\n",
       "<table border=\"1\" class=\"dataframe\">\n",
       "  <thead>\n",
       "    <tr style=\"text-align: right;\">\n",
       "      <th></th>\n",
       "      <th>event</th>\n",
       "      <th>particleName</th>\n",
       "      <th>x</th>\n",
       "      <th>y</th>\n",
       "      <th>z</th>\n",
       "      <th>px</th>\n",
       "      <th>py</th>\n",
       "      <th>pz</th>\n",
       "      <th>E</th>\n",
       "    </tr>\n",
       "  </thead>\n",
       "  <tbody>\n",
       "    <tr>\n",
       "      <th>0</th>\n",
       "      <td>0</td>\n",
       "      <td>gamma</td>\n",
       "      <td>-46.665398</td>\n",
       "      <td>14.573922</td>\n",
       "      <td>10.485294</td>\n",
       "      <td>-4108.790087</td>\n",
       "      <td>1283.199766</td>\n",
       "      <td>923.202142</td>\n",
       "      <td>4402.392510</td>\n",
       "    </tr>\n",
       "    <tr>\n",
       "      <th>1</th>\n",
       "      <td>0</td>\n",
       "      <td>gamma</td>\n",
       "      <td>-46.554595</td>\n",
       "      <td>14.452292</td>\n",
       "      <td>11.126588</td>\n",
       "      <td>-21958.518406</td>\n",
       "      <td>6816.712327</td>\n",
       "      <td>5248.202276</td>\n",
       "      <td>23583.632558</td>\n",
       "    </tr>\n",
       "    <tr>\n",
       "      <th>2</th>\n",
       "      <td>0</td>\n",
       "      <td>pi-</td>\n",
       "      <td>-46.000031</td>\n",
       "      <td>16.477644</td>\n",
       "      <td>10.605868</td>\n",
       "      <td>-9160.779055</td>\n",
       "      <td>3281.545421</td>\n",
       "      <td>2112.151205</td>\n",
       "      <td>9958.367124</td>\n",
       "    </tr>\n",
       "    <tr>\n",
       "      <th>3</th>\n",
       "      <td>1</td>\n",
       "      <td>mu+</td>\n",
       "      <td>-13.628892</td>\n",
       "      <td>-3.544433</td>\n",
       "      <td>-47.975935</td>\n",
       "      <td>-5514.644806</td>\n",
       "      <td>-1398.599609</td>\n",
       "      <td>-19290.163449</td>\n",
       "      <td>20111.910844</td>\n",
       "    </tr>\n",
       "    <tr>\n",
       "      <th>4</th>\n",
       "      <td>2</td>\n",
       "      <td>gamma</td>\n",
       "      <td>47.077349</td>\n",
       "      <td>-14.529804</td>\n",
       "      <td>8.521030</td>\n",
       "      <td>1265.384717</td>\n",
       "      <td>-389.821084</td>\n",
       "      <td>228.823194</td>\n",
       "      <td>1343.696027</td>\n",
       "    </tr>\n",
       "    <tr>\n",
       "      <th>...</th>\n",
       "      <td>...</td>\n",
       "      <td>...</td>\n",
       "      <td>...</td>\n",
       "      <td>...</td>\n",
       "      <td>...</td>\n",
       "      <td>...</td>\n",
       "      <td>...</td>\n",
       "      <td>...</td>\n",
       "      <td>...</td>\n",
       "    </tr>\n",
       "    <tr>\n",
       "      <th>65334</th>\n",
       "      <td>29997</td>\n",
       "      <td>pi+</td>\n",
       "      <td>17.005018</td>\n",
       "      <td>-24.666768</td>\n",
       "      <td>40.029738</td>\n",
       "      <td>2118.552388</td>\n",
       "      <td>-3075.607023</td>\n",
       "      <td>4991.097398</td>\n",
       "      <td>6235.235026</td>\n",
       "    </tr>\n",
       "    <tr>\n",
       "      <th>65335</th>\n",
       "      <td>29998</td>\n",
       "      <td>gamma</td>\n",
       "      <td>34.489961</td>\n",
       "      <td>6.631228</td>\n",
       "      <td>35.587490</td>\n",
       "      <td>3224.056973</td>\n",
       "      <td>623.609560</td>\n",
       "      <td>3321.844324</td>\n",
       "      <td>4670.982976</td>\n",
       "    </tr>\n",
       "    <tr>\n",
       "      <th>65336</th>\n",
       "      <td>29998</td>\n",
       "      <td>gamma</td>\n",
       "      <td>35.298867</td>\n",
       "      <td>6.010952</td>\n",
       "      <td>34.897829</td>\n",
       "      <td>4330.902982</td>\n",
       "      <td>740.133289</td>\n",
       "      <td>4270.943351</td>\n",
       "      <td>6127.436253</td>\n",
       "    </tr>\n",
       "    <tr>\n",
       "      <th>65337</th>\n",
       "      <td>29998</td>\n",
       "      <td>pi+</td>\n",
       "      <td>33.336556</td>\n",
       "      <td>3.488380</td>\n",
       "      <td>37.101284</td>\n",
       "      <td>16128.464281</td>\n",
       "      <td>1671.441608</td>\n",
       "      <td>17957.905008</td>\n",
       "      <td>24195.596897</td>\n",
       "    </tr>\n",
       "    <tr>\n",
       "      <th>65338</th>\n",
       "      <td>29999</td>\n",
       "      <td>e-</td>\n",
       "      <td>-19.890248</td>\n",
       "      <td>-44.641081</td>\n",
       "      <td>-10.561814</td>\n",
       "      <td>-9948.543431</td>\n",
       "      <td>-22317.396059</td>\n",
       "      <td>-5256.900132</td>\n",
       "      <td>24993.492803</td>\n",
       "    </tr>\n",
       "  </tbody>\n",
       "</table>\n",
       "<p>65339 rows × 9 columns</p>\n",
       "</div>"
      ],
      "text/plain": [
       "       event particleName          x          y          z            px  \\\n",
       "0          0        gamma -46.665398  14.573922  10.485294  -4108.790087   \n",
       "1          0        gamma -46.554595  14.452292  11.126588 -21958.518406   \n",
       "2          0          pi- -46.000031  16.477644  10.605868  -9160.779055   \n",
       "3          1          mu+ -13.628892  -3.544433 -47.975935  -5514.644806   \n",
       "4          2        gamma  47.077349 -14.529804   8.521030   1265.384717   \n",
       "...      ...          ...        ...        ...        ...           ...   \n",
       "65334  29997          pi+  17.005018 -24.666768  40.029738   2118.552388   \n",
       "65335  29998        gamma  34.489961   6.631228  35.587490   3224.056973   \n",
       "65336  29998        gamma  35.298867   6.010952  34.897829   4330.902982   \n",
       "65337  29998          pi+  33.336556   3.488380  37.101284  16128.464281   \n",
       "65338  29999           e- -19.890248 -44.641081 -10.561814  -9948.543431   \n",
       "\n",
       "                 py            pz             E  \n",
       "0       1283.199766    923.202142   4402.392510  \n",
       "1       6816.712327   5248.202276  23583.632558  \n",
       "2       3281.545421   2112.151205   9958.367124  \n",
       "3      -1398.599609 -19290.163449  20111.910844  \n",
       "4       -389.821084    228.823194   1343.696027  \n",
       "...             ...           ...           ...  \n",
       "65334  -3075.607023   4991.097398   6235.235026  \n",
       "65335    623.609560   3321.844324   4670.982976  \n",
       "65336    740.133289   4270.943351   6127.436253  \n",
       "65337   1671.441608  17957.905008  24195.596897  \n",
       "65338 -22317.396059  -5256.900132  24993.492803  \n",
       "\n",
       "[65339 rows x 9 columns]"
      ]
     },
     "execution_count": 3,
     "metadata": {},
     "output_type": "execute_result"
    }
   ],
   "source": [
    "data"
   ]
  },
  {
   "attachments": {},
   "cell_type": "markdown",
   "metadata": {},
   "source": [
    "funciona hablándole por columnas. Así se opera con data en Nuclear."
   ]
  },
  {
   "cell_type": "markdown",
   "metadata": {},
   "source": [
    "## Code\n"
   ]
  },
  {
   "cell_type": "code",
   "execution_count": 4,
   "metadata": {},
   "outputs": [],
   "source": [
    "from collections import namedtuple\n",
    "Particle = namedtuple('Particle', ('x', 'p', 'E', \"name\"))\n",
    "def event_particles(data, event_number):\n",
    "    \"\"\"\n",
    "    return the list of particles an event\n",
    "    \n",
    "    Inputs\n",
    "        data          : DataFrame, \n",
    "        event_number  : int, number of event\n",
    "    \n",
    "    Return\n",
    "        particles : a list of particles\n",
    "        each particle has\n",
    "            x    : np.array, 3D vector, the detected position (mm)\n",
    "            p    : np.array, 3D vector, the detected momemtum  (MeV)\n",
    "            E    : float, detected energy (MeV)\n",
    "            name : string, name of the particle, i.e. \"e+\"\n",
    "    \"\"\"\n",
    "    dpars = data[data.event == event_number] ## get the particles of the same event\n",
    "    npars = len(dpars) ## number of particles in the event\n",
    "    pars  = [Particle(np.array((dpars.x.values[i] , dpars.y.values[i] , dpars.z.values[i])), \n",
    "                      np.array((dpars.px.values[i], dpars.py.values[i], dpars.pz.values[i])),\n",
    "                      dpars.E.values[i], dpars.particleName.values[i]) for i in range(npars)]\n",
    "    return pars\n"
   ]
  },
  {
   "cell_type": "code",
   "execution_count": 5,
   "metadata": {},
   "outputs": [],
   "source": [
    "def event_channel(data, event_number):\n",
    "    \"\"\" return the detected channel, a string with the list of the different types of particles and how many times they are in the the event\n",
    "    i.e: '2 gamma, 1 pi-', indicates that in the event with number *event_number* has been detected 2 gammas and 1 pi-\n",
    "\n",
    "    Inputs:    \n",
    "        data          : DataFrame, \n",
    "        event_number  : int, number of event\n",
    "\n",
    "    Returns:\n",
    "        str, string with the count of the different type of particle in the event\n",
    "    \"\"\"\n",
    "    edata = data[data.event == event_number] ## get the particles of the event\n",
    "    pars  = list(edata.particleName) ## get the names of the particles \n",
    "    pars.sort()\n",
    "    spars = str([str(pars.count(name))+' '+name for name in set(pars)])\n",
    "    spars = spars.replace(\"'\", \"\")\n",
    "    spars = spars.replace(\"[\", \"\")\n",
    "    spars = spars.replace(\"]\", \"\")\n",
    "    return spars\n"
   ]
  },
  {
   "cell_type": "code",
   "execution_count": 6,
   "metadata": {},
   "outputs": [],
   "source": [
    "def event_charge(data, event_number):\n",
    "    \"\"\" returns the event charge (in e units)\n",
    "    \n",
    "    Inputs:\n",
    "        data         : DataFrame\n",
    "        event_number : int, event number\n",
    "    \n",
    "    Returns\n",
    "        charge       : int, the charge of the event\n",
    "    \"\"\"\n",
    "    edata  = data[data.event == event_number] # get the particle of the event\n",
    "    names  = str(list(edata.particleName)) ## get the event of the particles\n",
    "    nplus  = names.count(\"+\") ## count how many are '+'\n",
    "    nminus = names.count(\"-\") ## count how many are '-'\n",
    "    charge = nplus - nminus\n",
    "    return charge"
   ]
  },
  {
   "cell_type": "code",
   "execution_count": 7,
   "metadata": {},
   "outputs": [],
   "source": [
    "import scipy.linalg as la\n",
    "def intersection_of_straight_lines(x1, v1, x2, v2):\n",
    "    \"\"\" compute the instersection point of two straight lines\n",
    "\n",
    "    Inputs:\n",
    "        x1: tuple or np.array, reference point of line 1\n",
    "        v1: tuple or np.array, direction vector of line 1\n",
    "        x1: tuple or np.array, reference point of line 1\n",
    "        v1: tuple or np.array, direction vector of line 1\n",
    "\n",
    "    Returns:\n",
    "        x: np.array, the closest point of line 1 to the intersection\n",
    "                     the intersection point if both lines really intersect\n",
    "\n",
    "    Algorithm:\n",
    "        Intersection of two straight lines:\n",
    "            x1(t) = x1 + t1 * v1\n",
    "            x2(t) = x2 + t2 * v2,\n",
    "        where x1 is a point in the line 1 and v1 is the direction vector (i.e momentum), and t1 is the running parameter.\n",
    "        x1, v2, t2 the same for line 2. \n",
    "        \n",
    "        condition: x1(t) = x2(t) => x2- x1 = t1 * v1 - t2 * v2\n",
    "        solve the equations and estimate the two scalars: t1 and t2 \n",
    "    \"\"\"\n",
    "\n",
    "\n",
    "    x1 = np.array(x1)\n",
    "    x2 = np.array(x2)\n",
    "    v1 = np.array(v1)\n",
    "    v2 = np.array(v2)\n",
    "\n",
    "    bb = x2 - x1\n",
    "    ndim = len(bb)\n",
    "    aa = np.zeros((ndim, 2))\n",
    "    aa[:, 0] =  v1\n",
    "    aa[:, 1] = -v2\n",
    "\n",
    "    tt = la.lstsq(aa, bb)[0]\n",
    "    x1i = x1 + tt[0] * v1\n",
    "    return x1i\n"
   ]
  },
  {
   "cell_type": "markdown",
   "metadata": {},
   "source": [
    "## Ejemplos"
   ]
  },
  {
   "cell_type": "markdown",
   "metadata": {},
   "source": [
    "### Obtener el número de eventos"
   ]
  },
  {
   "cell_type": "code",
   "execution_count": 8,
   "metadata": {},
   "outputs": [
    {
     "name": "stdout",
     "output_type": "stream",
     "text": [
      " number of events 30000\n"
     ]
    }
   ],
   "source": [
    "## Number of events in the data\n",
    "nevents = len(np.unique(data.event.values))\n",
    "print(\" number of events {:d}\".format(nevents))"
   ]
  },
  {
   "cell_type": "markdown",
   "metadata": {},
   "source": [
    "### Obtener las partículas de un evento"
   ]
  },
  {
   "cell_type": "code",
   "execution_count": null,
   "metadata": {},
   "outputs": [
    {
     "data": {
      "text/html": [
       "<div>\n",
       "<style scoped>\n",
       "    .dataframe tbody tr th:only-of-type {\n",
       "        vertical-align: middle;\n",
       "    }\n",
       "\n",
       "    .dataframe tbody tr th {\n",
       "        vertical-align: top;\n",
       "    }\n",
       "\n",
       "    .dataframe thead th {\n",
       "        text-align: right;\n",
       "    }\n",
       "</style>\n",
       "<table border=\"1\" class=\"dataframe\">\n",
       "  <thead>\n",
       "    <tr style=\"text-align: right;\">\n",
       "      <th></th>\n",
       "      <th>event</th>\n",
       "      <th>particleName</th>\n",
       "      <th>x</th>\n",
       "      <th>y</th>\n",
       "      <th>z</th>\n",
       "      <th>px</th>\n",
       "      <th>py</th>\n",
       "      <th>pz</th>\n",
       "      <th>E</th>\n",
       "    </tr>\n",
       "  </thead>\n",
       "  <tbody>\n",
       "    <tr>\n",
       "      <th>0</th>\n",
       "      <td>0</td>\n",
       "      <td>gamma</td>\n",
       "      <td>-46.665398</td>\n",
       "      <td>14.573922</td>\n",
       "      <td>10.485294</td>\n",
       "      <td>-4108.790087</td>\n",
       "      <td>1283.199766</td>\n",
       "      <td>923.202142</td>\n",
       "      <td>4402.392510</td>\n",
       "    </tr>\n",
       "    <tr>\n",
       "      <th>1</th>\n",
       "      <td>0</td>\n",
       "      <td>gamma</td>\n",
       "      <td>-46.554595</td>\n",
       "      <td>14.452292</td>\n",
       "      <td>11.126588</td>\n",
       "      <td>-21958.518406</td>\n",
       "      <td>6816.712327</td>\n",
       "      <td>5248.202276</td>\n",
       "      <td>23583.632558</td>\n",
       "    </tr>\n",
       "    <tr>\n",
       "      <th>2</th>\n",
       "      <td>0</td>\n",
       "      <td>pi-</td>\n",
       "      <td>-46.000031</td>\n",
       "      <td>16.477644</td>\n",
       "      <td>10.605868</td>\n",
       "      <td>-9160.779055</td>\n",
       "      <td>3281.545421</td>\n",
       "      <td>2112.151205</td>\n",
       "      <td>9958.367124</td>\n",
       "    </tr>\n",
       "  </tbody>\n",
       "</table>\n",
       "</div>"
      ],
      "text/plain": [
       "   event particleName          x          y          z            px  \\\n",
       "0      0        gamma -46.665398  14.573922  10.485294  -4108.790087   \n",
       "1      0        gamma -46.554595  14.452292  11.126588 -21958.518406   \n",
       "2      0          pi- -46.000031  16.477644  10.605868  -9160.779055   \n",
       "\n",
       "            py           pz             E  \n",
       "0  1283.199766   923.202142   4402.392510  \n",
       "1  6816.712327  5248.202276  23583.632558  \n",
       "2  3281.545421  2112.151205   9958.367124  "
      ]
     },
     "execution_count": 14,
     "metadata": {},
     "output_type": "execute_result"
    }
   ],
   "source": [
    "## get the particles of the event number 0\n",
    "ievent    = 0\n",
    "particles = data[data.event == ievent]\n",
    "particles"
   ]
  },
  {
   "attachments": {},
   "cell_type": "markdown",
   "metadata": {},
   "source": [
    "\"\"\"Cambiar en ievent el evento que quiera\"\"\""
   ]
  },
  {
   "cell_type": "code",
   "execution_count": null,
   "metadata": {},
   "outputs": [
    {
     "name": "stdout",
     "output_type": "stream",
     "text": [
      " particle: index =  0 , position x =  [-46.66539837  14.57392213  10.48529394] , momentum p =  [-4108.79008681  1283.19976634   923.20214219] , Energy E =  4402.39251011878 , type =  gamma\n",
      " particle: index =  1 , position x =  [-46.55459489  14.45229176  11.12658788] , momentum p =  [-21958.51840571   6816.71232738   5248.20227557] , Energy E =  23583.63255848045 , type =  gamma\n",
      " particle: index =  2 , position x =  [-46.00003078  16.47764361  10.60586768] , momentum p =  [-9160.77905515  3281.54542054  2112.15120504] , Energy E =  9958.367123688897 , type =  pi-\n"
     ]
    }
   ],
   "source": [
    "## alternative way to get the particles of the event number 0\n",
    "ievents   = 0\n",
    "particles = event_particles(data, ievent)\n",
    "for i, particle in enumerate(particles):\n",
    "    print(\" particle: index = \", i, \n",
    "           \", position x = \"   , particle.x,\n",
    "           \", momentum p = \"   , particle.p,\n",
    "           \", Energy E = \"     , particle.E,\n",
    "           \", type = \"          , particle.name)"
   ]
  },
  {
   "cell_type": "markdown",
   "metadata": {},
   "source": [
    "### Obtener la lista con el número de los distintos tipos de partículas detectadas en un evento"
   ]
  },
  {
   "cell_type": "code",
   "execution_count": null,
   "metadata": {},
   "outputs": [
    {
     "name": "stdout",
     "output_type": "stream",
     "text": [
      "Detected channel (particles) of event 2457 = 1 e+\n"
     ]
    }
   ],
   "source": [
    "## detected channel of the event 0\n",
    "ievent  = 2457\n",
    "channel = event_channel(data, ievent)\n",
    "print(\"Detected channel (particles) of event {:d} = {:s}\".format(ievent, channel))"
   ]
  },
  {
   "cell_type": "markdown",
   "metadata": {},
   "source": [
    "### Obtener la carga de un evento"
   ]
  },
  {
   "cell_type": "code",
   "execution_count": null,
   "metadata": {},
   "outputs": [
    {
     "name": "stdout",
     "output_type": "stream",
     "text": [
      "Total electric charge of the event 0 = -1 (e)\n"
     ]
    }
   ],
   "source": [
    "# charge of the event 0\n",
    "ievent = 0\n",
    "charge = event_charge(data, ievent)\n",
    "print(\"Total electric charge of the event {:d} = {:d} (e)\".format(ievent, charge))"
   ]
  },
  {
   "cell_type": "markdown",
   "metadata": {},
   "source": [
    "### Obtener la distribución de energía de los muones en eventos con un solo muón."
   ]
  },
  {
   "cell_type": "code",
   "execution_count": null,
   "metadata": {},
   "outputs": [
    {
     "name": "stdout",
     "output_type": "stream",
     "text": [
      "Total number of events with 1 mu- = 2816\n",
      "Average muon energy E = 16328.989 MeV\n"
     ]
    },
    {
     "data": {
      "image/png": "[encoded data removed]",
      "text/plain": [
       "<Figure size 640x480 with 1 Axes>"
      ]
     },
     "metadata": {},
     "output_type": "display_data"
    }
   ],
   "source": [
    "\n",
    "## Energy distribution of the events with 1 muon\n",
    "energies = []\n",
    "for ievent in range(nevents):\n",
    "    channel = event_channel(data, ievent) # get the detected channel\n",
    "    if (channel == \"1 mu-\"):  # select only events with only 1 muon\n",
    "        particles   = event_particles(data, ievent) # get the particles of the event\n",
    "        muons       = [particle for particle in particles if particle.name == \"mu-\"] # select only the muons (there is only 1!)\n",
    "        muon        = muons[0] # take the 1 muon from the list of muons\n",
    "        muon_energy = muon.E\n",
    "        energies.append(muon_energy)\n",
    "\n",
    "plt.hist(energies, bins = 50)\n",
    "plt.xlabel(\"Energy (MeV)\")\n",
    "plt.title(\"1 mu- events\")\n",
    "print(\"Total number of events with 1 mu- = {:d}\".format(len(energies)))\n",
    "print(\"Average muon energy E = {:4.3f} MeV\".format(np.mean(energies)))"
   ]
  },
  {
   "attachments": {},
   "cell_type": "markdown",
   "metadata": {},
   "source": [
    "Podemos hacer un ajuste usando el paquete zfit."
   ]
  },
  {
   "cell_type": "markdown",
   "metadata": {},
   "source": [
    "### Obtener la masa invariante de dos gammas en un evento"
   ]
  },
  {
   "cell_type": "code",
   "execution_count": null,
   "metadata": {},
   "outputs": [
    {
     "name": "stdout",
     "output_type": "stream",
     "text": [
      "Event 2429, invariant mass of the 2 gammas = 134.977 MeV\n"
     ]
    }
   ],
   "source": [
    "## We compute the invariant mass of the gammas of the event 0\n",
    "ievent    = np.random.randint(2999)\n",
    "particles = event_particles(data, ievent)\n",
    "gammas    = [particle for particle in particles if particle.name == \"gamma\"]\n",
    "gamma1    = gammas[0]\n",
    "gamma2    = gammas[1]\n",
    "energy_sum   = gamma1.E + gamma2.E\n",
    "momentum_sum = gamma1.p + gamma2.p\n",
    "inv_mass     = np.sqrt( (energy_sum)**2 - sum(momentum_sum * momentum_sum))\n",
    "print(\"Event {:d}, invariant mass of the 2 gammas = {:4.3f} MeV\".format(ievent, inv_mass))\n",
    "# Notice that 135 is the mass of the pi0! \n",
    "# Look for the lifetime and decays of the pi0 in the PDG"
   ]
  },
  {
   "cell_type": "markdown",
   "metadata": {},
   "source": [
    "### Obtener el punto de intersección, el vértice de producción, de dos gammas que provienen de un $\\pi^0$"
   ]
  },
  {
   "cell_type": "code",
   "execution_count": null,
   "metadata": {},
   "outputs": [
    {
     "ename": "IndexError",
     "evalue": "list index out of range",
     "output_type": "error",
     "traceback": [
      "\u001b[1;31m---------------------------------------------------------------------------\u001b[0m",
      "\u001b[1;31mIndexError\u001b[0m                                Traceback (most recent call last)",
      "Cell \u001b[1;32mIn[67], line 5\u001b[0m\n\u001b[0;32m      3\u001b[0m particles \u001b[39m=\u001b[39m event_particles(data, ievent) \n\u001b[0;32m      4\u001b[0m gammas    \u001b[39m=\u001b[39m [particle \u001b[39mfor\u001b[39;00m particle \u001b[39min\u001b[39;00m particles \u001b[39mif\u001b[39;00m particle\u001b[39m.\u001b[39mname \u001b[39m==\u001b[39m \u001b[39m\"\u001b[39m\u001b[39mgamma\u001b[39m\u001b[39m\"\u001b[39m]\n\u001b[1;32m----> 5\u001b[0m gamma1    \u001b[39m=\u001b[39m gammas[\u001b[39m0\u001b[39;49m]\n\u001b[0;32m      6\u001b[0m gamma2    \u001b[39m=\u001b[39m gammas[\u001b[39m1\u001b[39m]\n\u001b[0;32m      7\u001b[0m gamma1_x  \u001b[39m=\u001b[39m gamma1\u001b[39m.\u001b[39mx\n",
      "\u001b[1;31mIndexError\u001b[0m: list index out of range"
     ]
    }
   ],
   "source": [
    "## We compute the veretex of the two gammas generated from the pi0 decay of the event 0\n",
    "ievent    = 779\n",
    "particles = event_particles(data, ievent) \n",
    "gammas    = [particle for particle in particles if particle.name == \"gamma\"]\n",
    "gamma1    = gammas[0]\n",
    "gamma2    = gammas[1]\n",
    "gamma1_x  = gamma1.x\n",
    "gamma1_p  = gamma1.p\n",
    "gamma2_x  = gamma2.x\n",
    "gamma2_p  = gamma2.p\n",
    "vertex    = intersection_of_straight_lines(gamma1_x, gamma1_p, gamma2_x, gamma2_p)\n",
    "print(\"Vertex of the two gammas (in mm) = \" , vertex)"
   ]
  },
  {
   "cell_type": "markdown",
   "metadata": {},
   "source": [
    "### Calcular la distancia de vuelo del $\\tau$ en un evento con un $\\pi^0$"
   ]
  },
  {
   "cell_type": "code",
   "execution_count": null,
   "metadata": {},
   "outputs": [
    {
     "ename": "IndexError",
     "evalue": "list index out of range",
     "output_type": "error",
     "traceback": [
      "\u001b[1;31m---------------------------------------------------------------------------\u001b[0m",
      "\u001b[1;31mIndexError\u001b[0m                                Traceback (most recent call last)",
      "Cell \u001b[1;32mIn[60], line 7\u001b[0m\n\u001b[0;32m      5\u001b[0m particles \u001b[39m=\u001b[39m event_particles(data, ievent) \n\u001b[0;32m      6\u001b[0m gammas    \u001b[39m=\u001b[39m [particle \u001b[39mfor\u001b[39;00m particle \u001b[39min\u001b[39;00m particles \u001b[39mif\u001b[39;00m particle\u001b[39m.\u001b[39mname \u001b[39m==\u001b[39m \u001b[39m\"\u001b[39m\u001b[39mgamma\u001b[39m\u001b[39m\"\u001b[39m]\n\u001b[1;32m----> 7\u001b[0m gamma1    \u001b[39m=\u001b[39m gammas[\u001b[39m0\u001b[39;49m]\n\u001b[0;32m      8\u001b[0m gamma2    \u001b[39m=\u001b[39m gammas[\u001b[39m1\u001b[39m]\n\u001b[0;32m      9\u001b[0m vertex    \u001b[39m=\u001b[39m intersection_of_straight_lines(gamma1\u001b[39m.\u001b[39mx, gamma1\u001b[39m.\u001b[39mp, gamma2\u001b[39m.\u001b[39mx, gamma2\u001b[39m.\u001b[39mp)\n",
      "\u001b[1;31mIndexError\u001b[0m: list index out of range"
     ]
    }
   ],
   "source": [
    "## In the event 0, the 2 gammas come from the p0 decay, which decay inmediately and which is a decay product of the tau. \n",
    "## Therefore, the vertex of the 2 gammas, is the vertex of the tau decay\n",
    "## As the taus are produced at origin (0, 0, 0), we compute the fliht distance of the tau of the event 0\n",
    "ievent    = 779\n",
    "particles = event_particles(data, ievent) \n",
    "gammas    = [particle for particle in particles if particle.name == \"gamma\"]\n",
    "gamma1    = gammas[0]\n",
    "gamma2    = gammas[1]\n",
    "vertex    = intersection_of_straight_lines(gamma1.x, gamma1.p, gamma2.x, gamma2.p)\n",
    "distance  = np.sqrt(sum(vertex * vertex))\n",
    "print(\"Event {:d}, tau flight distance = {:4.3f} mm\".format(ievent, distance))"
   ]
  },
  {
   "attachments": {},
   "cell_type": "markdown",
   "metadata": {},
   "source": [
    "## Mau\n",
    "## 1\n",
    "3000 events indicate a sample of 3000. In order to differentiate between $\\tau^-$ and $\\tau^+$ we can make use of  the conservation of charge. Because the charge is conserved in every event, any $\\tau^-$'s decay channel must have a charge of -(e); and the same principle can be applied for the $\\tau^+$. "
   ]
  },
  {
   "cell_type": "code",
   "execution_count": null,
   "metadata": {},
   "outputs": [],
   "source": [
    "#Mau\n",
    "##Código para contar cuántos taus y antitaus hay en la muestra.\n",
    "evs=np.arange(0,nevents,1)\n",
    "chargelist=[]\n",
    "for k in evs:\n",
    "    ievent = k\n",
    "    charge = event_charge(data, ievent)\n",
    "    chargelist.append(charge)\n",
    "    numt=chargelist.count(-1)\n",
    "    numant=chargelist.count(1)\n",
    "print('Tenemos {} canales con carga -e (corresponden a \\u03C4^-) y {} canales con carga +e (\\u03C4^+)' .format(numt,numant))\n",
    "\n"
   ]
  },
  {
   "attachments": {},
   "cell_type": "markdown",
   "metadata": {},
   "source": [
    "## 2 Estima con la fracción de desintegración en los canales principales del $\\tau$\n",
    "Según el PDG los canales principales (considero los 6 de mayor fracción de desintegración) del $\\tau^-$ son:\n",
    " * hadrónicas \n",
    "   - $\\pi^-\\pi^0\\nu_\\tau (25.49±0.09)%$\n",
    "   - $\\pi^-\\nu_\\tau (10.82±0.05)%$\n",
    "   - $2\\pi^-\\pi^+\\nu_\\tau (9.31±0.10)%$\n",
    " * leptónicas\n",
    "   - $e^−anti\\nu_e\\nu_\\tau (17.82±0.04)%$\n",
    "   - $\\mu^-anti\\nu_\\mu\\nu_\\tau (17.39±0.04)%$\n",
    "y del $\\tau^+$ los respectivos conjugados de carga de los anteriores mencionados para $\\tau^-$"
   ]
  },
  {
   "attachments": {},
   "cell_type": "markdown",
   "metadata": {},
   "source": [
    "Para poder estimar la fracción de desintegración de los canales principales, diseñamos un código que encuentre \n",
    "los canales más repetidos, y,  dado que la fracción de desisntegración es la probaboilidad de que obtengamos\n",
    "un canal en específico, podemos calcularla como el cociente del número de veces que se repite el canal entre el número \n",
    "total de eventos."
   ]
  },
  {
   "cell_type": "code",
   "execution_count": null,
   "metadata": {},
   "outputs": [],
   "source": [
    "##WARNING!!!(these loads over half a million iterations; only run with the laptop charging and if you are absolutely sure is\n",
    "#completely necessary)\n",
    "lista    = []#Contains every channel. There is a fucking ton of them, I know. \n",
    "sublist  = []#Only for the most repeated\n",
    "fracción = []#Para la fracción de desin\n",
    "for ievent in range(nevents):#creamos una lista con todos los nombres de los canales para que podamos aplicar count sobre ella\n",
    "    if event_charge(data,ievent)<0:\n",
    "        channel   = event_channel(data,ievent)\n",
    "        lista.append(channel)\n",
    "for ievent in range(nevents):#usamos .count sobre nuesta lista con todos los canales para poder difereciar los más comunes.\n",
    "    channel  = event_channel(data,ievent)\n",
    "    fracc    = op.countOf(lista,channel)/14897\n",
    "    if fracc > 0.10 and op.countOf(sublist,channel)==0:\n",
    "        sublist.append(channel)\n",
    "        fracción.append(fracc)\n",
    "print(sublist,fracción)\n",
    "print('Las más comunes y sus respectivas fracciones de desintegración')"
   ]
  },
  {
   "attachments": {},
   "cell_type": "markdown",
   "metadata": {},
   "source": [
    "Datos muy cercanos a los del PDG"
   ]
  },
  {
   "attachments": {},
   "cell_type": "markdown",
   "metadata": {},
   "source": [
    "## 3\n",
    "Comparo 6 distribuciones de energía de $e^\\pm$, $\\mu^\\pm$ y $\\pi^\\pm$"
   ]
  },
  {
   "cell_type": "code",
   "execution_count": null,
   "metadata": {},
   "outputs": [],
   "source": [
    "## Energy distribution of the events with 1 muon\n",
    "energies1 = []\n",
    "for ievent in range(nevents):\n",
    "    channel = event_channel(data,ievent) # get the detected channel\n",
    "    if (channel == \"1 mu-\"):  # select only events with only 1 muon\n",
    "        particles   = event_particles(data,ievent) # get the particles of the event\n",
    "        muons       = [particle for particle in particles if particle.name == \"mu-\"] # select only the muons (there is only 1!)\n",
    "        muon        = muons[0] # take the 1 muon from the list of muons\n",
    "        muon_energy = muon.E\n",
    "        energies1.append(muon_energy)\n",
    "\n",
    "plt.hist(energies1, bins = 50,label='$\\mu^-$',alpha=0.8)\n",
    "print(\"Total number of events with 1 mu- = {:d}\".format(len(energies1)))\n",
    "print(\"Average muon energy E = {:4.3f} MeV\".format(np.mean(energies1)))\n",
    "## Energy distribution of the events with 1 antimuon\n",
    "energies2 = []\n",
    "for ievent in range(nevents):\n",
    "    channel = event_channel(data,ievent) # get the detected channel\n",
    "    if (channel == \"1 mu+\"):  # select only events with only 1 muon\n",
    "        particles   = event_particles(data, ievent) # get the particles of the event\n",
    "        muons       = [particle for particle in particles if particle.name == \"mu+\"] # select only the muons (there is only 1!)\n",
    "        muon        = muons[0] # take the 1 muon from the list of muons\n",
    "        muon_energy = muon.E\n",
    "        energies2.append(muon_energy)\n",
    "\n",
    "plt.hist(energies2, bins = 50,label='$\\mu^+$',alpha=0.7)\n",
    "plt.xlabel(\"Energy (MeV)\")\n",
    "plt.title(\"1 $\\mu^\\pm$ events\")\n",
    "plt.legend()\n",
    "plt.grid()\n",
    "print(\"Total number of events with 1 mu+ = {:d}\".format(len(energies2)))\n",
    "print(\"Average antimuon energy E = {:4.3f} MeV\".format(np.mean(energies2)))\n"
   ]
  },
  {
   "cell_type": "code",
   "execution_count": null,
   "metadata": {},
   "outputs": [],
   "source": [
    "## Energy distribution of the events with 1 electron\n",
    "energies3 = []\n",
    "for ievent in range(nevents):\n",
    "    channel = event_channel(data,ievent) # get the detected channel\n",
    "    if (channel == \"1 e-\"):  # select only events with only 1 electron\n",
    "        particles   = event_particles(data,ievent) # get the particles of the event\n",
    "        electrons       = [particle for particle in particles if particle.name == \"e-\"] # select only the electrons (there is only 1!)\n",
    "        electron        = electrons[0] # take the 1 electron from the list of electrons\n",
    "        electron_energy = electron.E\n",
    "        energies3.append(electron_energy)\n",
    "\n",
    "plt.hist(energies3, bins = 50,label='$e^-$',alpha=0.8,color='green')\n",
    "print(\"Total number of events with 1 e- = {:d}\".format(len(energies3)))\n",
    "print(\"Average electron energy E = {:4.3f} MeV\".format(np.mean(energies3)))\n",
    "## Energy distribution of the events with 1 positron\n",
    "energies4 = []\n",
    "for ievent in range(nevents):\n",
    "    channel = event_channel(data,ievent) # get the detected channel\n",
    "    if (channel == \"1 e+\"):  # select only events with only 1 positron\n",
    "        particles   = event_particles(data,ievent) # get the particles of the event\n",
    "        positrons       = [particle for particle in particles if particle.name == \"e+\"] # select only the positrons (there is only 1!)\n",
    "        positron        = positrons[0] # take the 1 positron from the list of positrons\n",
    "        positron_energy = positron.E\n",
    "        energies4.append(positron_energy)\n",
    "\n",
    "plt.hist(energies4, bins = 50,label='$e^+$',alpha=0.7,color='lightblue')\n",
    "plt.xlabel(\"Energy (MeV)\")\n",
    "plt.title(\"1 $e^\\pm$ events\")\n",
    "plt.legend()\n",
    "plt.grid()\n",
    "print(\"Total number of events with 1 e+ = {:d}\".format(len(energies4)))\n",
    "print(\"Average positron energy E = {:4.3f} MeV\".format(np.mean(energies4)))\n",
    "\n"
   ]
  },
  {
   "cell_type": "code",
   "execution_count": null,
   "metadata": {},
   "outputs": [],
   "source": [
    "## Energy distribution of the events with 1 pion-\n",
    "energies5 = []\n",
    "for ievent in range(nevents):\n",
    "    channel = event_channel(data, ievent) # get the detected channel\n",
    "    if (channel == \"1 pi-\"):  # select only events with only 1 pion\n",
    "        particles   = event_particles(data, ievent) # get the particles of the event\n",
    "        pions       = [particle for particle in particles if particle.name == \"pi-\"] # select only the pions (there is only 1!)\n",
    "        pion        = pions[0] # take the 1 pion from the list of pions\n",
    "        pion_energy = pion.E\n",
    "        energies5.append(pion_energy)\n",
    "\n",
    "plt.hist(energies5, bins = 50,label='$\\pi^-$',alpha=0.7,color='brown')\n",
    "print(\"Total number of events with 1 pion- = {:d}\".format(len(energies5)))\n",
    "print(\"Average pion- energy E = {:4.3f} MeV\".format(np.mean(energies5)))\n",
    "## Energy distribution of the events with 1 pion+\n",
    "energies6 = []\n",
    "for ievent in range(nevents):\n",
    "    channel = event_channel(data, ievent) # get the detected channel\n",
    "    if (channel == \"1 pi+\"):  # select only events with only 1 pion\n",
    "        particles   = event_particles(data, ievent) # get the particles of the event\n",
    "        pions       = [particle for particle in particles if particle.name == \"pi+\"] # select only the pions (there is only 1!)\n",
    "        pion        = pions[0] # take the 1 pion from the list of pions\n",
    "        pion_energy = pion.E\n",
    "        energies6.append(pion_energy)\n",
    "\n",
    "plt.hist(energies6, bins = 50,label='$\\pi^+$',alpha=0.7,color='darkblue')\n",
    "plt.xlabel(\"Energy (MeV)\")\n",
    "plt.title(\"1 $\\pi^\\pm$ events\")\n",
    "plt.legend()\n",
    "plt.grid()\n",
    "print(\"Total number of events with 1 pion+ = {:d}\".format(len(energies6)))\n",
    "print(\"Average pion+ energy E = {:4.3f} MeV\".format(np.mean(energies6)))\n"
   ]
  },
  {
   "attachments": {},
   "cell_type": "markdown",
   "metadata": {},
   "source": [
    "Como era predecible, los más populares son los electrones y positrones, que, al ser los mneos msasivos, són más fáciles(requieren menos E) de crear con una E dada; por el contrario, los mesones pi son los menos comunes. Además vemos que los 4 leptones se vuelven menos eventuales conforme aumenta la Energía proporcionada, mientras que los piones no."
   ]
  },
  {
   "attachments": {},
   "cell_type": "markdown",
   "metadata": {},
   "source": [
    "## 4\n",
    "Para estimar la distancia de vuelo media del $\\tau$ reconstruímos el vértice de desintegración para todos los eventos con solo 2 gammas, y obtengo sus respectivas distancias de vuelo. Obtenidas esas distancias, procedemos a promediarlas. "
   ]
  },
  {
   "cell_type": "code",
   "execution_count": null,
   "metadata": {},
   "outputs": [],
   "source": [
    "#Código para obtener la distancia de vuelo para todos los eventos con 2 gammas, la promedio, así como un tiempo de vida promedio.\n",
    "distance = []\n",
    "for ievent in range(nevents):\n",
    "    channel = event_channel(data,ievent) # get the detected channel\n",
    "    if channel.count('2 gamma'):  # select only events with 2 gamma\n",
    "        particles = event_particles(data,ievent)\n",
    "        gammas    = [particle for particle in particles if particle.name == \"gamma\"]\n",
    "        gamma1    = gammas[0]\n",
    "        gamma2    = gammas[1]\n",
    "        vertex    = intersection_of_straight_lines(gamma1.x, gamma1.p, gamma2.x, gamma2.p)\n",
    "        distance.append(np.sqrt(sum(vertex * vertex)))\n",
    "avrg_distance = np.mean(distance)\n",
    "print(\"The average distance is d = {:4.3f} mm\".format(avrg_distance))\n",
    "## Para el tiempo de vida medio, divido la distancia promedio entre la velocidad(asumo que no hay fuerzas externas \n",
    "#  acelerando la partícula), paso a NU (h=c=1 => P^2=E^2-m^2) vuelvo a SI y expreso el resultado en femtosegundos. \n",
    "avrg_time     = avrg_distance*8.2956*(10**2)## in femtoseconds \n",
    "print(\"El tiempo de vida medio(no la media vida) \\u03C4 = {:4.3f} fs\".format(avrg_time))\n",
    "## No me sale el del PDG, puede que sea porque no he utilizado métrica relativista (transformaciones de Lorentz) porq\n",
    "#  no tenía ni pta de cómo. Pon lo que desees, bonita <3. \n"
   ]
  },
  {
   "attachments": {},
   "cell_type": "markdown",
   "metadata": {},
   "source": [
    "Extra 1: Verifica que la masa invariante de los eventos con dos $\\gamma$ corresponde a la masa de un $\\pi^0$\n",
    "Todos las parejas de gammas de cualquier evento tienen la misma masa invariante, luego, podemos usar cualquiera de ellas para corroborar la correspondencia. Por ejemplo, el evento 16:"
   ]
  },
  {
   "cell_type": "code",
   "execution_count": null,
   "metadata": {},
   "outputs": [],
   "source": [
    "data[data.event == 16]"
   ]
  },
  {
   "attachments": {},
   "cell_type": "markdown",
   "metadata": {},
   "source": [
    "Como las gamma no tienen carga, esto debe ser producto de una desintegración de un $\\tau^-$. En toda interacción debe conservarse el número leptónico, luego, la partícula que se nos escapa al detector (pero no al razonamiento) es un antineutrino tau (anti $\\nu\\_tau$). Aun más, debe también conservarse la diferencia entre fermiones y atifermiones. Antes de la interacción esto es 1, con un 1 $\\pi^-$(down & antiup) y un neutrino tendríamos : 2-1=1. Resumiendo, tenemos que ambas gammas tienen que haber sido producidas al haberse desintegrado una partícula sin carga y que tenga la misma cantidad de fermiones que de antifermiones(para mantener la diferencia intacta); deducimos que tiene que ser un mesón neutro, suponiendo el caso más común, esto es un $\\pi^0$\n",
    "\n",
    "También podemos comprobar que esta es la masa invariante usando los datos de la PDG, que nos indica que la masa del pión neutro es 134.9768±0.0005 MeV. Y nosotros podemos calcularlo usando:"
   ]
  },
  {
   "cell_type": "code",
   "execution_count": null,
   "metadata": {},
   "outputs": [],
   "source": [
    "ievent    = 16\n",
    "particles = event_particles(data, ievent)\n",
    "gammas    = [particle for particle in particles if particle.name == \"gamma\"]\n",
    "gamma1    = gammas[0]\n",
    "gamma2    = gammas[1]\n",
    "energy_sum   = gamma1.E + gamma2.E\n",
    "momentum_sum = gamma1.p + gamma2.p\n",
    "inv_mass     = np.sqrt( (energy_sum)**2 - sum(momentum_sum * momentum_sum))\n",
    "print(\"Event {:d}, invariant mass of the 2 gammas = {:4.3f} MeV,\".format(ievent, inv_mass))"
   ]
  },
  {
   "cell_type": "markdown",
   "metadata": {},
   "source": [
    "el mismo valor de la PDG"
   ]
  },
  {
   "attachments": {},
   "cell_type": "markdown",
   "metadata": {},
   "source": [
    "EXTRA 2: Utilizo los canales con 1 $\\pi^0$ para obtener la distribución de la distancia de vuelo."
   ]
  },
  {
   "cell_type": "code",
   "execution_count": null,
   "metadata": {},
   "outputs": [],
   "source": [
    "distance = []\n",
    "for ievent in range(nevents):\n",
    "    channel = event_channel(data,ievent) # get the detected channel\n",
    "    if channel.count('2 gamma'):  # select only events with 2 gamma\n",
    "        particles = event_particles(data,ievent)\n",
    "        gammas    = [particle for particle in particles if particle.name == \"gamma\"]\n",
    "        gamma1    = gammas[0]\n",
    "        gamma2    = gammas[1]\n",
    "        vertex    = intersection_of_straight_lines(gamma1.x, gamma1.p, gamma2.x, gamma2.p)\n",
    "        distance.append(np.sqrt(sum(vertex * vertex)))\n",
    "plt.hist(distance, bins = 50)\n",
    "plt.xlabel(\"Distance (mm)\")\n",
    "plt.title(\"1 $\\pi^0$\")\n",
    "print(\"Total number of events with 1 pi0 = {:d}\".format(len(distance)))\n",
    "print(\"Average muon distance d = {:4.3f} mm\".format(np.mean(distance)))"
   ]
  },
  {
   "attachments": {},
   "cell_type": "markdown",
   "metadata": {},
   "source": [
    "Extra 3: Para reconstruir el momento del $\\nu_\\tau$ que escapa indetectado usamos la conservación de la energía en las interacciones. Según la teoría:\n",
    "($E_a + E_b = E_c + E_d$),\n",
    "siendo $E_i$ la energía asociada a cada partícula i (la energía de los canales entrantes debe ser igual a la de los salientes). Con nuestros datos experimentales despejamos la energía del neutrino que se escapa como la que falte para que se cumpla la consevación. Por último, obtenemos el módulo del momento tridimensional a partir de la E del neutrino (pasando a NU es más sencillo).\n",
    "Cabe mencionar que calculo el módulo del momento y no todas sus componentes porque para ello necesitaría el momento inicial del tau, dato que no se nos da para cada evento."
   ]
  },
  {
   "cell_type": "code",
   "execution_count": null,
   "metadata": {},
   "outputs": [],
   "source": [
    "momentatau = []\n",
    "for ievent in range(nevents):\n",
    "    channel = event_channel(data,ievent) # get the detected channel\n",
    "    if channel.count('2 gamma'):  # select only events with 2 gamma\n",
    "        particles  = event_particles(data,ievent)\n",
    "        energy_sum = particles[0].E+particles[1].E+particles[2].E\n",
    "        energtau   = 45000-energy_sum#(MeV)\n",
    "        momentau   = energtau#(MeV/c) Momentum for the neutrino tau of every event with only 1 pi0\n",
    "        momentatau.append(momentau)\n",
    "momentum_prom=np.mean(momentatau)\n",
    "print('The mean of the momenta of the neutrinos is P = {:4.3f} MeV/c'.format(momentum_prom))"
   ]
  }
 ],
 "metadata": {
  "@webio": {
   "lastCommId": null,
   "lastKernelId": null
  },
  "kernelspec": {
   "display_name": "Python 3",
   "language": "python",
   "name": "python3"
  },
  "language_info": {
   "codemirror_mode": {
    "name": "ipython",
    "version": 3
   },
   "file_extension": ".py",
   "mimetype": "text/x-python",
   "name": "python",
   "nbconvert_exporter": "python",
   "pygments_lexer": "ipython3",
   "version": "3.11.0"
  },
  "vscode": {
   "interpreter": {
    "hash": "e6eb76255c916f60410797d5e0c4653a8cd8eefdcbfd37e2a33af9fb95048909"
   }
  }
 },
 "nbformat": 4,
 "nbformat_minor": 4
}
